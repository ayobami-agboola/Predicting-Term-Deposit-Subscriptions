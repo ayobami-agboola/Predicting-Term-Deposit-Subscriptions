{
 "cells": [
  {
   "cell_type": "markdown",
   "id": "8eb3cafb",
   "metadata": {},
   "source": [
    "## Comparative Study of Machine Learning Models for Predicting Term Deposit Subscriptions"
   ]
  },
  {
   "cell_type": "markdown",
   "id": "e61a0dfe",
   "metadata": {},
   "source": [
    "The bank dataset is a collection of customer data used to predict term deposit subscriptions in marketing campaigns, featuring demographics, financial details, and campaign-related attributes. Random Forest, SVM, Logistic Regression, and an ensemble of Random Forest and Logistic Regression were applied on the dataset. By employing hyperparameter tuning, class imbalance handling, and feature importance analysis, the models performancec were evaluated to balance predictive accuracy, interpretability, and suitability for financial applications, offering insights into customer behavior and improved decision-making strategies."
   ]
  },
  {
   "cell_type": "code",
   "execution_count": null,
   "id": "7cafc2a0",
   "metadata": {},
   "outputs": [],
   "source": [
    "# Importing the required libraries\n",
    "\n",
    "import numpy as np\n",
    "import pandas as pd\n",
    "import matplotlib.pyplot as plt\n",
    "import seaborn as sns\n",
    "from sklearn.model_selection import train_test_split, GridSearchCV\n",
    "from sklearn.metrics import (accuracy_score, classification_report, \n",
    "                        confusion_matrix, roc_auc_score, roc_curve, \n",
    "                        average_precision_score, precision_recall_curve)\n",
    "from math import log\n",
    "from sklearn.preprocessing import StandardScaler, OneHotEncoder\n",
    "from sklearn.compose import ColumnTransformer\n",
    "from sklearn.pipeline import Pipeline\n",
    "from sklearn.ensemble import RandomForestClassifier, StackingClassifier\n",
    "from sklearn.linear_model import LogisticRegression\n",
    "from sklearn.svm import SVC\n"
   ]
  },
  {
   "cell_type": "markdown",
   "id": "887b5623",
   "metadata": {},
   "source": [
    "**EXPLORING THE DATASET"
   ]
  },
  {
   "cell_type": "code",
   "execution_count": null,
   "id": "06525c3c",
   "metadata": {},
   "outputs": [],
   "source": [
    "#Loading the bank dataset\n",
    "data = pd.read_csv('bank.csv', delimiter=';')\n",
    "data.head()"
   ]
  },
  {
   "cell_type": "code",
   "execution_count": null,
   "id": "c95e0a26",
   "metadata": {},
   "outputs": [],
   "source": [
    "#A look into the dataset\n",
    "data.info()"
   ]
  },
  {
   "cell_type": "code",
   "execution_count": null,
   "id": "47c3ca9a",
   "metadata": {},
   "outputs": [],
   "source": [
    "#Splitting the columns dataset into numerical and categorical columns bar the target column\n",
    "numerical_features = ['age', 'balance', 'day', 'duration', 'campaign', 'pdays', 'previous']\n",
    "categorical_features = ['job', 'marital', 'education', 'default', 'housing', 'loan', 'contact', 'month', 'poutcome']"
   ]
  },
  {
   "cell_type": "code",
   "execution_count": null,
   "id": "84b44f54",
   "metadata": {},
   "outputs": [],
   "source": [
    "#Variation in the target variable \n",
    "data['y'].value_counts(normalize=True)"
   ]
  },
  {
   "cell_type": "code",
   "execution_count": null,
   "id": "f8ecc805",
   "metadata": {},
   "outputs": [],
   "source": [
    "#Visualising the target variable variation\n",
    "sns.countplot(x='y', data=data)\n",
    "plt.title('Variation in target variable classes')\n",
    "plt.ylabel('Number of customers')\n",
    "plt.xlabel('Subscribed')\n",
    "plt.show()"
   ]
  },
  {
   "cell_type": "code",
   "execution_count": null,
   "id": "cd036369",
   "metadata": {},
   "outputs": [],
   "source": [
    "#Visualising the relationship between the numerical features\n",
    "sns.pairplot(data, hue='y')\n",
    "plt.show()"
   ]
  },
  {
   "cell_type": "code",
   "execution_count": null,
   "id": "37d5231c",
   "metadata": {},
   "outputs": [],
   "source": [
    "#Visualising the dataset to see customers who subscribe by categories\n",
    "\n",
    "plt.figure(figsize=(30, 100))\n",
    "for i, col in enumerate(categorical_features):\n",
    "    plt.subplot(len(categorical_features), 1, i+1)\n",
    "    sns.countplot(data=data, x=col, hue='y')\n",
    "    plt.title(f'Subscribers by {col} ', fontsize=50)\n",
    "    plt.xlabel(col, fontsize=48)\n",
    "    plt.ylabel('Frequency', fontsize=48)\n",
    "    plt.xticks(fontsize=24)\n",
    "    plt.yticks(fontsize=24)\n",
    "\n",
    "plt.tight_layout()\n",
    "plt.show()"
   ]
  },
  {
   "cell_type": "markdown",
   "id": "9d589af4",
   "metadata": {},
   "source": [
    "**GENERAL DATA PREPROCESSING"
   ]
  },
  {
   "cell_type": "code",
   "execution_count": null,
   "id": "62ee97bd",
   "metadata": {},
   "outputs": [],
   "source": [
    "#Converting months to integer representation\n",
    "month_map = {'jan':1, 'feb':2, 'mar':3, 'apr': 4, 'may': 5, 'jun':6, 'jul': 7, 'aug':8, 'sep': 9, 'oct': 10, 'nov': 11, 'dec': 12}\n",
    "\n",
    "data['month_int'] = pd.Categorical(data['month'], categories=month_map.keys(), ordered=True).codes + 1\n",
    "\n",
    "data['month_int'].value_counts()"
   ]
  },
  {
   "cell_type": "code",
   "execution_count": null,
   "id": "af733780",
   "metadata": {
    "scrolled": true
   },
   "outputs": [],
   "source": [
    "#Dropping the month column\n",
    "data.drop('month', axis=1, inplace=True)\n",
    "data.info()"
   ]
  },
  {
   "cell_type": "code",
   "execution_count": null,
   "id": "544df69f",
   "metadata": {},
   "outputs": [],
   "source": [
    "#Generating a correlation heatmap for numerical columns\n",
    "correlation_matrix = data.select_dtypes(include=[np.number]).corr()\n",
    "sns.heatmap(correlation_matrix, annot=True, cmap='coolwarm', fmt=\".2f\", linewidths=0.5)\n",
    "plt.title(\"Correlation Matrix Heatmap\")\n",
    "plt.show()"
   ]
  },
  {
   "cell_type": "markdown",
   "id": "31f68615",
   "metadata": {},
   "source": [
    "### RANDOM FOREST MODEL"
   ]
  },
  {
   "cell_type": "markdown",
   "id": "6676994e",
   "metadata": {},
   "source": [
    "**PREPROCESSING FOR RANDOM FOREST"
   ]
  },
  {
   "cell_type": "code",
   "execution_count": null,
   "id": "e6bec11e",
   "metadata": {},
   "outputs": [],
   "source": [
    "#making a copy of the dataset for random_forest\n",
    "rf_data = data.copy()\n",
    "rf_data.head()"
   ]
  },
  {
   "cell_type": "code",
   "execution_count": null,
   "id": "dae2d0e7",
   "metadata": {},
   "outputs": [],
   "source": [
    "#One-hot encoding for columns with labels\n",
    "\n",
    "rf_data_encoded = pd.get_dummies(rf_data, columns=['job', 'marital', 'education', 'contact', 'poutcome'], drop_first=True)\n",
    "rf_data_encoded.head()"
   ]
  },
  {
   "cell_type": "code",
   "execution_count": null,
   "id": "1f4b3647",
   "metadata": {},
   "outputs": [],
   "source": [
    "#Mapping binary columns into 0s and 1s\n",
    "\n",
    "binary_columns = ['default', 'housing', 'loan', 'y']\n",
    "rf_data_encoded[binary_columns] = rf_data_encoded[binary_columns].apply(lambda x: x.map({'yes': 1, 'no': 0}))\n",
    "rf_data_encoded.head()"
   ]
  },
  {
   "cell_type": "code",
   "execution_count": null,
   "id": "8d747c0e",
   "metadata": {},
   "outputs": [],
   "source": [
    "#Separating the rf_datset into features (X) and target (y)\n",
    "\n",
    "X_rf = rf_data_encoded.drop('y', axis=1)\n",
    "y_rf = rf_data_encoded['y']"
   ]
  },
  {
   "cell_type": "code",
   "execution_count": null,
   "id": "a072f320",
   "metadata": {},
   "outputs": [],
   "source": [
    "#Splitting the rf_dataset into training and test data\n",
    "\n",
    "X_train_rf, X_test_rf, y_train_rf, y_test_rf = train_test_split(X_rf,y_rf, test_size=0.3, random_state=20, stratify=y_rf)"
   ]
  },
  {
   "cell_type": "code",
   "execution_count": null,
   "id": "8e66a90a",
   "metadata": {},
   "outputs": [],
   "source": [
    "#Defining the model\n",
    "\n",
    "rf_model = RandomForestClassifier(random_state=20, class_weight='balanced')\n",
    "rf_model.fit(X_train_rf, y_train_rf)"
   ]
  },
  {
   "cell_type": "code",
   "execution_count": null,
   "id": "71015757",
   "metadata": {},
   "outputs": [],
   "source": [
    "#Random forest prediction\n",
    "y_predict_rf = rf_model.predict(X_test_rf)\n",
    "print(classification_report(y_test_rf, y_predict_rf))"
   ]
  },
  {
   "cell_type": "code",
   "execution_count": null,
   "id": "28205c69",
   "metadata": {},
   "outputs": [],
   "source": [
    "#Confusion matrix for the random forest\n",
    "rf_conf_matrix = confusion_matrix(y_test_rf, y_predict_rf)\n",
    "sns.heatmap(rf_conf_matrix, annot=True, fmt='d', cmap='Blues', xticklabels=['No', 'Yes'], yticklabels=['No', 'Yes'])\n",
    "plt.title('Random Forest Confusion Matrix')\n",
    "plt.ylabel('Actual')\n",
    "plt.xlabel('Predicted')\n",
    "plt.show()"
   ]
  },
  {
   "cell_type": "code",
   "execution_count": null,
   "id": "ed8b7e20",
   "metadata": {},
   "outputs": [],
   "source": [
    "#The probabilistic pridiction\n",
    "y_rf_prob = rf_model.predict_proba(X_test_rf)[:, 1]"
   ]
  },
  {
   "cell_type": "code",
   "execution_count": null,
   "id": "c1b6a1bb",
   "metadata": {},
   "outputs": [],
   "source": [
    "#ROC Curve for the random forest\n",
    "\n",
    "roc_auc_rf = roc_auc_score(y_test_rf, y_rf_prob)\n",
    "print(f\"RF ROC-AUC Score: {roc_auc_rf}\")\n",
    "\n",
    "# Plot ROC Curve\n",
    "fpr, tpr, _ = roc_curve(y_test_rf, y_rf_prob)\n",
    "plt.plot(fpr, tpr, label=f\"RF ROC Curve (AUC = {roc_auc_rf:.2f})\")\n",
    "plt.xlabel('False Positive Rate')\n",
    "plt.ylabel('True Positive Rate')\n",
    "plt.title('Random forest ROC Curve')\n",
    "plt.legend()\n",
    "plt.show()"
   ]
  },
  {
   "cell_type": "code",
   "execution_count": null,
   "id": "f22cfa0c",
   "metadata": {},
   "outputs": [],
   "source": [
    "#Extracting important features\n",
    "importances_rf = rf_model.feature_importances_\n",
    "feature_names_rf = X_rf.columns\n",
    "importance_rf_df = pd.DataFrame({'Feature_rf': feature_names_rf, 'Importance_rf': importances_rf})\n",
    "importance_rf_df = importance_rf_df.sort_values(by='Importance_rf', ascending=False)\n",
    "importance_rf_df"
   ]
  },
  {
   "cell_type": "code",
   "execution_count": null,
   "id": "f363a716",
   "metadata": {},
   "outputs": [],
   "source": [
    "#Visualising the important features\n",
    "sns.barplot(x='Importance_rf', y='Feature_rf', data=importance_rf_df)\n",
    "plt.title('Random Forest Feature Importance')\n",
    "plt.show()"
   ]
  },
  {
   "cell_type": "markdown",
   "id": "0742b7af",
   "metadata": {},
   "source": [
    "**Applying Hyperparameter tunning to Random Forest"
   ]
  },
  {
   "cell_type": "code",
   "execution_count": null,
   "id": "e14168a1",
   "metadata": {},
   "outputs": [],
   "source": [
    "#Defining the params\n",
    "param_grid_rf = {\n",
    "    'n_estimators': [100, 200, 300],\n",
    "    'max_depth': [10, 20, 30],\n",
    "    'min_samples_split': [2, 5, 10],\n",
    "    'min_samples_leaf': [1, 2, 4]\n",
    "    }\n",
    "\n",
    "#The model\n",
    "grid_search_rf = GridSearchCV(estimator=rf_model, param_grid=param_grid_rf, cv=3, scoring='accuracy', verbose=2, n_jobs=1)\n",
    "grid_search_rf.fit(X_train_rf, y_train_rf)\n",
    "\n",
    "print(f\"Best Parameters: {grid_search_rf.best_params_}\")\n",
    "print(f\"Best Score: {grid_search_rf.best_score_}\")\n"
   ]
  },
  {
   "cell_type": "code",
   "execution_count": null,
   "id": "7a0615e3",
   "metadata": {},
   "outputs": [],
   "source": [
    "#Predicting with the hyperparameter model\n",
    "y_rftune_predict = grid_search_rf.predict(X_test_rf)\n",
    "print(classification_report(y_test_rf, y_rftune_predict))"
   ]
  },
  {
   "cell_type": "code",
   "execution_count": null,
   "id": "ba78390c",
   "metadata": {
    "scrolled": true
   },
   "outputs": [],
   "source": [
    "#Confusion matrix for the random forest\n",
    "rftuned_conf_matrix = confusion_matrix(y_test_rf, y_rftune_predict)\n",
    "sns.heatmap(rftuned_conf_matrix, annot=True, fmt='d', cmap='Blues', xticklabels=['No', 'Yes'], yticklabels=['No', 'Yes'])\n",
    "plt.title('CV Random Forest Confusion Matrix')\n",
    "plt.ylabel('Actual')\n",
    "plt.xlabel('Predicted')\n",
    "plt.show()"
   ]
  },
  {
   "cell_type": "code",
   "execution_count": null,
   "id": "e175b04b",
   "metadata": {},
   "outputs": [],
   "source": [
    "#The tuned probabilistic pridiction\n",
    "y_rftuned_prob = grid_search_rf.predict_proba(X_test_rf)[:, 1]"
   ]
  },
  {
   "cell_type": "code",
   "execution_count": null,
   "id": "f18a8afa",
   "metadata": {},
   "outputs": [],
   "source": [
    "#ROC Curve for the hyper tunned random forest\n",
    "\n",
    "roc_auc_rftuned = roc_auc_score(y_test_rf, y_rftuned_prob)\n",
    "print(f\"CV RF ROC-AUC Score: {roc_auc_rftuned}\")\n",
    "\n",
    "# Plot ROC Curve\n",
    "fpr_rftune, tpr_rftune, _ = roc_curve(y_test_rf, y_rftuned_prob)\n",
    "plt.plot(fpr_rftune, tpr_rftune, label=f\"CV RF ROC Curve (AUC = {roc_auc_rftuned:.2f})\")\n",
    "plt.xlabel('False Positive Rate')\n",
    "plt.ylabel('True Positive Rate')\n",
    "plt.title('CV Random forest ROC Curve')\n",
    "plt.legend()\n",
    "plt.show()"
   ]
  },
  {
   "cell_type": "code",
   "execution_count": null,
   "id": "87ca379a",
   "metadata": {},
   "outputs": [],
   "source": [
    "#Extracting CV RF important features\n",
    "\n",
    "#Get the best estimator\n",
    "best_estimator_rf = grid_search_rf.best_estimator_\n",
    "\n",
    "#Access the feature importances\n",
    "importances_cv_rf = best_estimator_rf.feature_importances_\n",
    "feature_names_cv_rf = X_rf.columns\n",
    "importance_cv_rf_df = pd.DataFrame({'Feature_cv_rf': feature_names_cv_rf, 'Importance_cv_rf': importances_cv_rf})\n",
    "importance_cv_rf_df = importance_cv_rf_df.sort_values(by='Importance_cv_rf', ascending=False)\n",
    "importance_cv_rf_df"
   ]
  },
  {
   "cell_type": "code",
   "execution_count": null,
   "id": "c482a4d8",
   "metadata": {},
   "outputs": [],
   "source": [
    "#Visualising the important features\n",
    "sns.barplot(x='Importance_cv_rf', y='Feature_cv_rf', data=importance_cv_rf_df)\n",
    "plt.title('CV Random Forest Feature Importance')\n",
    "plt.show()"
   ]
  },
  {
   "cell_type": "markdown",
   "id": "01ea8669",
   "metadata": {},
   "source": [
    "### LOGISTIC REGRESSION MODEL"
   ]
  },
  {
   "cell_type": "markdown",
   "id": "13458940",
   "metadata": {},
   "source": [
    "**PREPROCESSING FOR LOGISTIC REGRESSION"
   ]
  },
  {
   "cell_type": "code",
   "execution_count": null,
   "id": "1043c4c9",
   "metadata": {},
   "outputs": [],
   "source": [
    "#Creating a copy of the dataset for logistic regression\n",
    "lr_data = data.copy()\n",
    "lr_data.head()"
   ]
  },
  {
   "cell_type": "code",
   "execution_count": null,
   "id": "879994fa",
   "metadata": {},
   "outputs": [],
   "source": [
    "#Separating the lr dataset into feature (X) and target (y) \n",
    "\n",
    "#Feature columns\n",
    "X_lr = lr_data.drop(columns='y')\n",
    "\n",
    "#Extracting target column and converting Yes and No labels to binary 1s and 0s \n",
    "y_lr = lr_data['y'].apply(lambda x: 1 if x == 'yes' else 0)"
   ]
  },
  {
   "cell_type": "code",
   "execution_count": null,
   "id": "5a6135fc",
   "metadata": {},
   "outputs": [],
   "source": [
    "lr_numerical_features = ['age', 'balance', 'day', 'duration', 'campaign', 'pdays', 'previous', 'month_int']\n",
    "lr_categorical_features = ['job', 'marital', 'education', 'default', 'housing', 'loan', 'contact', 'poutcome']"
   ]
  },
  {
   "cell_type": "code",
   "execution_count": null,
   "id": "e9b6d1a1",
   "metadata": {},
   "outputs": [],
   "source": [
    "#Scalling numerical features and encoding categorical features\n",
    "\n",
    "lr_numerical_transformer = Pipeline(steps=[('scaler', StandardScaler())])\n",
    "\n",
    "lr_categorical_transformer = Pipeline(steps=[('onehot', OneHotEncoder(handle_unknown='ignore'))])\n",
    "\n",
    "lr_preprocessor = ColumnTransformer(transformers=[('num', lr_numerical_transformer, lr_numerical_features),\n",
    "                                               ('cat', lr_categorical_transformer, lr_categorical_features)\n",
    "                                               ])"
   ]
  },
  {
   "cell_type": "code",
   "execution_count": null,
   "id": "8bdc7e2b",
   "metadata": {},
   "outputs": [],
   "source": [
    "#Splitting the lr dataset\n",
    "\n",
    "X_lr_train, X_lr_test, y_lr_train, y_lr_test = train_test_split(X_lr, y_lr, test_size=0.3, random_state=20, stratify=y_lr)"
   ]
  },
  {
   "cell_type": "code",
   "execution_count": null,
   "id": "f8ae95ef",
   "metadata": {},
   "outputs": [],
   "source": [
    "#defining the model\n",
    "\n",
    "logistic_model = LogisticRegression(class_weight= 'balanced', solver='liblinear', random_state=20)"
   ]
  },
  {
   "cell_type": "code",
   "execution_count": null,
   "id": "36949607",
   "metadata": {},
   "outputs": [],
   "source": [
    "#Using a pipeline\n",
    "\n",
    "lr_pipeline = Pipeline(steps=[('preprocessor', lr_preprocessor), ('classifier', logistic_model)])"
   ]
  },
  {
   "cell_type": "code",
   "execution_count": null,
   "id": "b2f3aa3f",
   "metadata": {},
   "outputs": [],
   "source": [
    "#fitting the model\n",
    "lr_pipeline.fit(X_lr_train, y_lr_train)"
   ]
  },
  {
   "cell_type": "code",
   "execution_count": null,
   "id": "d1cb5b96",
   "metadata": {},
   "outputs": [],
   "source": [
    "#predicting with the lr pipeline model\n",
    "\n",
    "y_lr_predict = lr_pipeline.predict(X_lr_test)\n",
    "\n",
    "#Probabilities for ROC-AUC\n",
    "y_lr_prob = lr_pipeline.predict_proba(X_lr_test)[:, 1]\n",
    "\n",
    "print(classification_report(y_lr_test, y_lr_predict))"
   ]
  },
  {
   "cell_type": "code",
   "execution_count": null,
   "id": "3ef78eaa",
   "metadata": {},
   "outputs": [],
   "source": [
    "#lr confusion matrix\n",
    "lr_conf_matrix = confusion_matrix(y_lr_test, y_lr_predict)\n",
    "sns.heatmap(lr_conf_matrix, annot=True, fmt='d', cmap='Blues', xticklabels=['No', 'Yes'], yticklabels=['No', 'Yes'])\n",
    "plt.title('Logistic Regression Confusion Matrix')\n",
    "plt.ylabel('Actual')\n",
    "plt.xlabel('Predicted')\n",
    "plt.show()"
   ]
  },
  {
   "cell_type": "code",
   "execution_count": null,
   "id": "1c539df7",
   "metadata": {
    "scrolled": true
   },
   "outputs": [],
   "source": [
    "lr_roc_auc = roc_auc_score(y_lr_test, y_lr_prob)\n",
    "print(f\"LR ROC-AUC Score: {lr_roc_auc}\")\n",
    "\n",
    "# Plot ROC Curve\n",
    "fpr_lr, tpr_lr, _ = roc_curve(y_lr_test, y_lr_prob)\n",
    "plt.plot(fpr_lr, tpr_lr, label=f\"LR ROC Curve (AUC = {lr_roc_auc:.2f})\")\n",
    "plt.xlabel('False Positive Rate')\n",
    "plt.ylabel('True Positive Rate')\n",
    "plt.title('Logistic Regression ROC Curve')\n",
    "plt.legend()\n",
    "plt.show()"
   ]
  },
  {
   "cell_type": "code",
   "execution_count": null,
   "id": "6bd0f247",
   "metadata": {},
   "outputs": [],
   "source": [
    "# Extract feature names after preprocessing \n",
    "# Get feature names from the numerical and categorical transformers \n",
    "lr_categorical_feature_new = lr_pipeline.named_steps['preprocessor'].\\\n",
    "    named_transformers_['cat'].get_feature_names_out(lr_categorical_features)\n",
    "\n",
    "# Combine all feature names \n",
    "all_lr_feature_names = np.concatenate([lr_numerical_features, lr_categorical_feature_new])"
   ]
  },
  {
   "cell_type": "code",
   "execution_count": null,
   "id": "ac53bc33",
   "metadata": {},
   "outputs": [],
   "source": [
    "#Extract coefficeints\n",
    "\n",
    "lr_coefficients = lr_pipeline.named_steps['classifier'].coef_[0]\n",
    "\n",
    "\n",
    "lr_feature_importance = pd.DataFrame({\n",
    "    'Feature_lr': all_lr_feature_names,\n",
    "    'Coefficient_lr': lr_coefficients,\n",
    "    'Absolute Coefficient_lr': np.abs(lr_coefficients)\n",
    "    })\n",
    "\n",
    "lr_feature_importance = lr_feature_importance.sort_values(by='Absolute Coefficient_lr', ascending=False)\n",
    "lr_feature_importance\n"
   ]
  },
  {
   "cell_type": "code",
   "execution_count": null,
   "id": "43db5031",
   "metadata": {},
   "outputs": [],
   "source": [
    "#Visualising the important features\n",
    "plt.figure(figsize=(12, 8))\n",
    "sns.barplot(x='Absolute Coefficient_lr', y='Feature_lr', data=lr_feature_importance)\n",
    "plt.title('Logistic Regression Feature Importance')\n",
    "plt.show()"
   ]
  },
  {
   "cell_type": "markdown",
   "id": "f97cb159",
   "metadata": {},
   "source": [
    "**Applying Hyperparameter tunning to the Logistic Regression"
   ]
  },
  {
   "cell_type": "code",
   "execution_count": null,
   "id": "4032de76",
   "metadata": {},
   "outputs": [],
   "source": [
    "#defining the params\n",
    "lr_param_grid = {\n",
    "    'classifier__C': [0.1, 1, 10, 100],\n",
    "    'classifier__penalty': ['l1', 'l2']\n",
    "    }"
   ]
  },
  {
   "cell_type": "code",
   "execution_count": null,
   "id": "4efa96c8",
   "metadata": {},
   "outputs": [],
   "source": [
    "#Performing the Grid Search CV\n",
    "\n",
    "lr_grid_search = GridSearchCV(lr_pipeline, param_grid=lr_param_grid, cv=5, scoring='accuracy', verbose=2, n_jobs=-1)\n",
    "lr_grid_search.fit(X_lr_train, y_lr_train)"
   ]
  },
  {
   "cell_type": "code",
   "execution_count": null,
   "id": "6c9ee5c6",
   "metadata": {},
   "outputs": [],
   "source": [
    "#Best parameters and score\n",
    "\n",
    "print(f\"Best Parameters: {lr_grid_search.best_params_}\")\n",
    "print(f\"Best Score: {lr_grid_search.best_score_}\")"
   ]
  },
  {
   "cell_type": "code",
   "execution_count": null,
   "id": "861f9f51",
   "metadata": {},
   "outputs": [],
   "source": [
    "lr_best_model = lr_grid_search.best_estimator_\n",
    "y_lr_best_predict = lr_best_model.predict(X_lr_test)\n",
    "y_lr_best_prob = lr_best_model.predict_proba(X_lr_test)[:, 1]\n",
    "\n",
    "print(classification_report(y_lr_test, y_lr_best_predict))"
   ]
  },
  {
   "cell_type": "code",
   "execution_count": null,
   "id": "c9c6f4ef",
   "metadata": {},
   "outputs": [],
   "source": [
    "#lr tunned confusion matrix\n",
    "lrtune_cm = confusion_matrix(y_lr_test, y_lr_best_predict)\n",
    "sns.heatmap(lrtune_cm, annot=True, fmt='d', cmap='Blues', xticklabels=['No', 'Yes'], yticklabels=['No', 'Yes'])\n",
    "plt.title('CV Logistic Regression Confusion Matrix')\n",
    "plt.ylabel('Actual')\n",
    "plt.xlabel('Predicted')\n",
    "plt.show()"
   ]
  },
  {
   "cell_type": "code",
   "execution_count": null,
   "id": "8d7af418",
   "metadata": {},
   "outputs": [],
   "source": [
    "lr_cv_roc_auc = roc_auc_score(y_lr_test, y_lr_best_prob)\n",
    "print(f\"CV LR ROC-AUC Score: {lr_cv_roc_auc}\")\n",
    "\n",
    "# Plot ROC Curve\n",
    "lr_cv_fpr, lr_cv_tpr, _ = roc_curve(y_lr_test, y_lr_best_prob)\n",
    "plt.plot(lr_cv_fpr, lr_cv_tpr, label=f\"CV LR ROC Curve (AUC = {lr_cv_roc_auc:.2f})\")\n",
    "plt.xlabel('False Positive Rate')\n",
    "plt.ylabel('True Positive Rate')\n",
    "plt.title('CV Logistic Regression ROC Curve')\n",
    "plt.legend()\n",
    "plt.show()"
   ]
  },
  {
   "cell_type": "code",
   "execution_count": null,
   "id": "a71459a6",
   "metadata": {},
   "outputs": [],
   "source": [
    "#Extract coefficeints\n",
    "\n",
    "cv_lr_coefficients = lr_best_model.named_steps['classifier'].coef_[0]\n",
    "\n",
    "\n",
    "cv_lr_feature_importance = pd.DataFrame({\n",
    "    'Feature_cv_lr': all_lr_feature_names,\n",
    "    'Coefficient_cv_lr': cv_lr_coefficients,\n",
    "    'Absolute Coefficient_cv_lr': np.abs(cv_lr_coefficients)\n",
    "    })\n",
    "\n",
    "cv_lr_feature_importance = cv_lr_feature_importance.sort_values(by='Absolute Coefficient_cv_lr', ascending=False)\n",
    "cv_lr_feature_importance"
   ]
  },
  {
   "cell_type": "code",
   "execution_count": null,
   "id": "54d6cd67",
   "metadata": {},
   "outputs": [],
   "source": [
    "#Visualising the important features\n",
    "plt.figure(figsize=(12, 8))\n",
    "sns.barplot(x='Absolute Coefficient_cv_lr', y='Feature_cv_lr', data=cv_lr_feature_importance)\n",
    "plt.title('CV Logistic Regression Feature Importance')\n",
    "plt.show()"
   ]
  },
  {
   "cell_type": "markdown",
   "id": "633edfb1",
   "metadata": {},
   "source": [
    "### SVM MODEL"
   ]
  },
  {
   "cell_type": "code",
   "execution_count": null,
   "id": "653aec3a",
   "metadata": {
    "scrolled": true
   },
   "outputs": [],
   "source": [
    "#Creating a copy of the dataset for SVM\n",
    "svm_data = data.copy()\n",
    "svm_data.head()"
   ]
  },
  {
   "cell_type": "code",
   "execution_count": null,
   "id": "ce07d19d",
   "metadata": {},
   "outputs": [],
   "source": [
    "#Separating the SVM dataset into feature (X) and target (y) \n",
    "\n",
    "#Feature columns\n",
    "X_svm = svm_data.drop(columns='y')\n",
    "\n",
    "#Extracting target column and converting Yes and No labels to binary 1s and 0s \n",
    "y_svm = svm_data['y'].apply(lambda x: 1 if x == 'yes' else 0)"
   ]
  },
  {
   "cell_type": "code",
   "execution_count": null,
   "id": "29568fc6",
   "metadata": {},
   "outputs": [],
   "source": [
    "svm_numerical_features = ['age', 'balance', 'day', 'duration', 'campaign', 'pdays', 'previous', 'month_int']\n",
    "svm_categorical_features = ['job', 'marital', 'education', 'default', 'housing', 'loan', 'contact', 'poutcome']"
   ]
  },
  {
   "cell_type": "code",
   "execution_count": null,
   "id": "cf65067a",
   "metadata": {},
   "outputs": [],
   "source": [
    "#Scalling numerical features and encoding categorical features\n",
    "\n",
    "svm_numerical_transformer = Pipeline(steps=[('scaler', StandardScaler())])\n",
    "\n",
    "svm_categorical_transformer = Pipeline(steps=[('onehot', OneHotEncoder(handle_unknown='ignore'))])\n",
    "\n",
    "svm_preprocessor = ColumnTransformer(transformers=[('num', svm_numerical_transformer, svm_numerical_features),\n",
    "                                               ('cat', svm_categorical_transformer, svm_categorical_features)\n",
    "                                               ])"
   ]
  },
  {
   "cell_type": "code",
   "execution_count": null,
   "id": "d837a309",
   "metadata": {},
   "outputs": [],
   "source": [
    "#Splitting the lr dataset\n",
    "\n",
    "X_svm_train, X_svm_test, y_svm_train, y_svm_test = train_test_split(X_svm, y_svm, test_size=0.3, random_state=20, stratify=y_lr)"
   ]
  },
  {
   "cell_type": "code",
   "execution_count": null,
   "id": "e53171de",
   "metadata": {},
   "outputs": [],
   "source": [
    "#defining the model\n",
    "\n",
    "svm_model = SVC(kernel='linear', class_weight='balanced', probability=True, random_state=20)"
   ]
  },
  {
   "cell_type": "code",
   "execution_count": null,
   "id": "113a0c89",
   "metadata": {},
   "outputs": [],
   "source": [
    "# Create an SVM pipeline\n",
    "svm_pipeline = Pipeline(steps=[\n",
    "    ('preprocessor', svm_preprocessor),\n",
    "    ('svm', svm_model)\n",
    "    ])"
   ]
  },
  {
   "cell_type": "code",
   "execution_count": null,
   "id": "89311e8b",
   "metadata": {},
   "outputs": [],
   "source": [
    "# Train with the model\n",
    "svm_pipeline.fit(X_svm_train, y_svm_train)"
   ]
  },
  {
   "cell_type": "code",
   "execution_count": null,
   "id": "a52fe9d7",
   "metadata": {},
   "outputs": [],
   "source": [
    "#predicting with the svm pipeline model\n",
    "\n",
    "y_svm_predict = svm_pipeline.predict(X_svm_test)\n",
    "\n",
    "#Probabilities for ROC-AUC\n",
    "y_svm_prob = svm_pipeline.predict_proba(X_svm_test)[:, 1]\n",
    "\n",
    "print(classification_report(y_svm_test, y_svm_predict))"
   ]
  },
  {
   "cell_type": "code",
   "execution_count": null,
   "id": "3c41a2a5",
   "metadata": {},
   "outputs": [],
   "source": [
    "#svm confusion matrix\n",
    "svm_conf_matrix = confusion_matrix(y_svm_test, y_svm_predict)\n",
    "sns.heatmap(svm_conf_matrix, annot=True, fmt='d', cmap='Blues', xticklabels=['No', 'Yes'], yticklabels=['No', 'Yes'])\n",
    "plt.title('SVM Confusion Matrix')\n",
    "plt.ylabel('Actual')\n",
    "plt.xlabel('Predicted')\n",
    "plt.show()"
   ]
  },
  {
   "cell_type": "code",
   "execution_count": null,
   "id": "53ffcbd9",
   "metadata": {},
   "outputs": [],
   "source": [
    "\n",
    "svm_roc_auc = roc_auc_score(y_svm_test, y_svm_prob)\n",
    "print(f\"SVM ROC-AUC Score: {svm_roc_auc}\")\n",
    "\n",
    "# Plot ROC Curve\n",
    "fpr_svm, tpr_svm, _ = roc_curve(y_svm_test, y_svm_prob)\n",
    "plt.plot(fpr_svm, tpr_svm, label=f\"SVM ROC Curve (AUC = {svm_roc_auc:.2f})\")\n",
    "plt.xlabel('False Positive Rate')\n",
    "plt.ylabel('True Positive Rate')\n",
    "plt.title('SVM ROC Curve')\n",
    "plt.legend()\n",
    "plt.show()"
   ]
  },
  {
   "cell_type": "code",
   "execution_count": null,
   "id": "64af526e",
   "metadata": {},
   "outputs": [],
   "source": [
    "# Extract feature names after preprocessing \n",
    "# Get feature names from the numerical and categorical transformers \n",
    "svm_categorical_feature_new = svm_pipeline.named_steps['preprocessor'].\\\n",
    "    named_transformers_['cat'].get_feature_names_out(svm_categorical_features)\n",
    "\n",
    "# Combine all feature names \n",
    "all_svm_feature_names = np.concatenate([svm_numerical_features, svm_categorical_feature_new])"
   ]
  },
  {
   "cell_type": "code",
   "execution_count": null,
   "id": "80236a04",
   "metadata": {},
   "outputs": [],
   "source": [
    "#Extract coefficeints\n",
    "\n",
    "svm_coefficients = svm_pipeline.named_steps['svm'].coef_[0]\n",
    "\n",
    "svm_feature_importance = pd.DataFrame({\n",
    "    'Feature_svm': all_svm_feature_names,\n",
    "    'Coefficient_svm': svm_coefficients,\n",
    "    'Absolute Coefficient_svm': np.abs(svm_coefficients)\n",
    "    })\n",
    "\n",
    "svm_feature_importance = svm_feature_importance.sort_values(by='Absolute Coefficient_svm', ascending=False)\n",
    "svm_feature_importance"
   ]
  },
  {
   "cell_type": "code",
   "execution_count": null,
   "id": "6f3c0a4c",
   "metadata": {},
   "outputs": [],
   "source": [
    "#Visualising the important features\n",
    "plt.figure(figsize=(12, 8))\n",
    "sns.barplot(x='Absolute Coefficient_svm', y='Feature_svm', data=svm_feature_importance)\n",
    "plt.title('SVM Feature Importance')\n",
    "plt.show()"
   ]
  },
  {
   "cell_type": "markdown",
   "id": "c2df2ff5",
   "metadata": {},
   "source": [
    "**Applying Hyperparameter tunning to the SVM model"
   ]
  },
  {
   "cell_type": "code",
   "execution_count": null,
   "id": "bc90a9cb",
   "metadata": {},
   "outputs": [],
   "source": [
    "# Define parameter grid for hyperparameter tuning\n",
    "svm_param_grid = {\n",
    "    'svm__C': [0.1, 1, 10, 100]\n",
    "    }"
   ]
  },
  {
   "cell_type": "code",
   "execution_count": null,
   "id": "a353281e",
   "metadata": {},
   "outputs": [],
   "source": [
    "#Defining the params\n",
    "stack_param_grid = {\n",
    "    #Random FOrest parameters in the base model pipeline\n",
    "    'rf__rf__n_estimators': [100, 200, 300],\n",
    "    'rf__rf__max_depth': [10, 20, 30],\n",
    "\n",
    "    #Logistic Regression parameters in the base model pipeline\n",
    "    'lr__lr__C': [0.1, 1, 10],\n",
    "\n",
    "    #Final estimator parameters\n",
    "    'final_estimator__C': [0.1, 1, 10]\n",
    "  }"
   ]
  },
  {
   "cell_type": "code",
   "execution_count": null,
   "id": "ce648a41",
   "metadata": {},
   "outputs": [],
   "source": [
    "# Performing the SVM Grid Search CV\n",
    "svm_grid_search = GridSearchCV(svm_pipeline, svm_param_grid, cv=3, scoring='accuracy', verbose=2, n_jobs=-1)\n",
    "svm_grid_search.fit(X_svm_train, y_svm_train)"
   ]
  },
  {
   "cell_type": "code",
   "execution_count": null,
   "id": "c7559fef",
   "metadata": {},
   "outputs": [],
   "source": [
    "#Best parameters and score\n",
    "\n",
    "print(f\"SVM Best Parameters: {svm_grid_search.best_params_}\")\n",
    "print(f\"SVM Best Score: {svm_grid_search.best_score_}\")"
   ]
  },
  {
   "cell_type": "code",
   "execution_count": null,
   "id": "dff5f9d7",
   "metadata": {},
   "outputs": [],
   "source": [
    "# Predict and evaluate\n",
    "\n",
    "svm_best_model = svm_grid_search.best_estimator_\n",
    "y_svm_best_pred = svm_best_model.predict(X_svm_test)\n",
    "y_svm_best_prob = svm_best_model.predict_proba(X_svm_test)[:, 1]\n",
    "\n",
    "print(classification_report(y_svm_test, y_svm_best_pred))"
   ]
  },
  {
   "cell_type": "code",
   "execution_count": null,
   "id": "a468d53a",
   "metadata": {},
   "outputs": [],
   "source": [
    "#svm tunned confusion matrix\n",
    "svm_cv_cm = confusion_matrix(y_svm_test, y_svm_best_pred)\n",
    "sns.heatmap(svm_cv_cm, annot=True, fmt='d', cmap='Blues', xticklabels=['No', 'Yes'], yticklabels=['No', 'Yes'])\n",
    "plt.title('CV SVM Confusion Matrix')\n",
    "plt.ylabel('Actual')\n",
    "plt.xlabel('Predicted')\n",
    "plt.show()"
   ]
  },
  {
   "cell_type": "code",
   "execution_count": null,
   "id": "67ac6c00",
   "metadata": {},
   "outputs": [],
   "source": [
    "svm_cv_roc_auc = roc_auc_score(y_svm_test, y_svm_best_prob)\n",
    "print(f\"CV SVM ROC-AUC Score: {svm_cv_roc_auc}\")\n",
    "\n",
    "# Plot ROC Curve\n",
    "svm_cv_fpr, svm_cv_tpr, _ = roc_curve(y_svm_test, y_svm_best_prob)\n",
    "plt.plot(svm_cv_fpr, svm_cv_tpr, label=f\"CV SVM ROC Curve (AUC = {svm_cv_roc_auc:.2f})\")\n",
    "plt.xlabel('False Positive Rate')\n",
    "plt.ylabel('True Positive Rate')\n",
    "plt.title('CV SVM ROC Curve')\n",
    "plt.legend()\n",
    "plt.show()"
   ]
  },
  {
   "cell_type": "code",
   "execution_count": null,
   "id": "a15710fc",
   "metadata": {},
   "outputs": [],
   "source": [
    "#Extract coefficeints\n",
    "\n",
    "cv_svm_coefficients = svm_best_model.named_steps['svm'].coef_[0]\n",
    "\n",
    "\n",
    "cv_svm_feature_importance = pd.DataFrame({\n",
    "    'Feature_cv_svm': all_svm_feature_names,\n",
    "    'Coefficient_cv_svm': cv_svm_coefficients,\n",
    "    'Absolute Coefficient_cv_svm': np.abs(cv_svm_coefficients)\n",
    "    })\n",
    "\n",
    "cv_svm_feature_importance = cv_svm_feature_importance.sort_values(by='Absolute Coefficient_cv_svm', ascending=False)\n",
    "cv_svm_feature_importance"
   ]
  },
  {
   "cell_type": "code",
   "execution_count": null,
   "id": "8992924e",
   "metadata": {},
   "outputs": [],
   "source": [
    "#Visualising the important features\n",
    "plt.figure(figsize=(12, 8))\n",
    "sns.barplot(x='Absolute Coefficient_cv_svm', y='Feature_cv_svm', data=cv_svm_feature_importance)\n",
    "plt.title('CV SVM Feature Importance')\n",
    "plt.show()"
   ]
  },
  {
   "cell_type": "markdown",
   "id": "6deb7460",
   "metadata": {},
   "source": [
    "### STACKED RANDOM FOREST AND LOGISTIC REGRESSION ENSEMBLE"
   ]
  },
  {
   "cell_type": "code",
   "execution_count": null,
   "id": "d6dd57f6",
   "metadata": {},
   "outputs": [],
   "source": [
    "#Creating a copy of the dataset for the ensemble model\n",
    "en_data = data.copy()\n",
    "en_data.head()"
   ]
  },
  {
   "cell_type": "code",
   "execution_count": null,
   "id": "6021e37b",
   "metadata": {},
   "outputs": [],
   "source": [
    "#Separating the lr dataset into feature (X) and target (y) \n",
    "\n",
    "#Feature columns\n",
    "X_en = en_data.drop(columns='y')\n",
    "\n",
    "#Extracting target column and converting Yes and No labels to binary 1s and 0s \n",
    "y_en = en_data['y'].apply(lambda x: 1 if x == 'yes' else 0)"
   ]
  },
  {
   "cell_type": "code",
   "execution_count": null,
   "id": "3d0450d7",
   "metadata": {},
   "outputs": [],
   "source": [
    "en_numerical_features = ['age', 'balance', 'day', 'duration', 'campaign', 'pdays', 'previous', 'month_int']\n",
    "en_categorical_features = ['job', 'marital', 'education', 'default', 'housing', 'loan', 'contact', 'poutcome']"
   ]
  },
  {
   "cell_type": "code",
   "execution_count": null,
   "id": "f9c8e5b8",
   "metadata": {},
   "outputs": [],
   "source": [
    "#Scalling numerical features and encoding categorical features\n",
    "\n",
    "en_numerical_transformer = Pipeline(steps=[('scaler', StandardScaler())])\n",
    "\n",
    "en_categorical_transformer = Pipeline(steps=[('onehot', OneHotEncoder(handle_unknown='ignore'))])\n",
    "\n",
    "en_preprocessor = ColumnTransformer(transformers=[('num_en', en_numerical_transformer, en_numerical_features),\n",
    "                                               ('cat_en', en_categorical_transformer, en_categorical_features)\n",
    "                                               ])"
   ]
  },
  {
   "cell_type": "code",
   "execution_count": null,
   "id": "04a368ec",
   "metadata": {},
   "outputs": [],
   "source": [
    "#Pipeline for the base models\n",
    "\n",
    "random_forest_model = Pipeline(steps=[\n",
    "    ('en_preprocessor', en_preprocessor),\n",
    "     ('rf', RandomForestClassifier(n_estimators =100, random_state=20))\n",
    "     ])\n",
    "\n",
    "logistic_regression_model = Pipeline(steps=[\n",
    "    ('en_preprocessor', en_preprocessor),\n",
    "     ('lr', logistic_model)\n",
    "    ])"
   ]
  },
  {
   "cell_type": "code",
   "execution_count": null,
   "id": "a197edc5",
   "metadata": {},
   "outputs": [],
   "source": [
    "#combining the models together with stacking ensemble\n",
    "\n",
    "stacking_clf = StackingClassifier(\n",
    "    estimators = [\n",
    "    ('rf', random_forest_model),\n",
    "    ('lr', logistic_regression_model)\n",
    "  ],\n",
    "    final_estimator = LogisticRegression(class_weight='balanced', solver='liblinear', random_state=20)\n",
    ")\n"
   ]
  },
  {
   "cell_type": "code",
   "execution_count": null,
   "id": "b4c4fbba",
   "metadata": {},
   "outputs": [],
   "source": [
    "#Splitting dataset\n",
    "X_train_en, X_test_en, y_train_en, y_test_en = train_test_split(X_en, y_en, test_size=0.3, random_state=20, stratify=y_en)\n",
    "\n",
    "#Fitting the stacked model\n",
    "stacking_clf.fit(X_train_en, y_train_en)"
   ]
  },
  {
   "cell_type": "code",
   "execution_count": null,
   "id": "5ffc75e8",
   "metadata": {},
   "outputs": [],
   "source": [
    "#Prediction with the ensemble\n",
    "y_stack_predict = stacking_clf.predict(X_test_en)\n",
    "\n",
    "print(classification_report(y_test_en, y_stack_predict))"
   ]
  },
  {
   "cell_type": "code",
   "execution_count": null,
   "id": "34216a62",
   "metadata": {},
   "outputs": [],
   "source": [
    "#Confusion matrix for the ensemble\n",
    "stack_conf_matrix = confusion_matrix(y_test_en, y_stack_predict)\n",
    "sns.heatmap(stack_conf_matrix, annot=True, fmt='d', cmap='Blues', xticklabels=['No', 'Yes'], yticklabels=['No', 'Yes'])\n",
    "plt.title('Stacked Ensemble Confusion Matrix')\n",
    "plt.ylabel('Actual')\n",
    "plt.xlabel('Predicted')\n",
    "plt.show()"
   ]
  },
  {
   "cell_type": "code",
   "execution_count": null,
   "id": "945b264f",
   "metadata": {},
   "outputs": [],
   "source": [
    "y_en_stack_prob = stacking_clf.predict_proba(X_test_en)[:, 1]\n",
    "\n",
    "en_roc_auc = roc_auc_score(y_test_en, y_en_stack_prob)\n",
    "print(f\"Stacked_en_ROC-AUC Score: {en_roc_auc}\")\n",
    "\n",
    "# Plot ROC Curve\n",
    "en_fpr, en_tpr, _ = roc_curve(y_test_en, y_en_stack_prob)\n",
    "plt.plot(en_fpr, en_tpr, label=f\"ROC Curve (AUC = {en_roc_auc:.2f})\")\n",
    "plt.xlabel('False Positive Rate')\n",
    "plt.ylabel('True Positive Rate')\n",
    "plt.title('Stacked Ensembled ROC Curve')\n",
    "plt.legend()\n",
    "plt.show()"
   ]
  },
  {
   "cell_type": "markdown",
   "id": "ba58e686",
   "metadata": {},
   "source": [
    "**Applying Hyperparameter tunning to the Ensemble Model"
   ]
  },
  {
   "cell_type": "code",
   "execution_count": null,
   "id": "3831876e",
   "metadata": {},
   "outputs": [],
   "source": [
    "#Splitting the dataset for ensemble model\n",
    "X_train_ent, X_test_ent, y_train_ent, y_test_ent = train_test_split(X_en, y_en, test_size=0.3, random_state=20, stratify=y_en)"
   ]
  },
  {
   "cell_type": "code",
   "execution_count": null,
   "id": "d0811e94",
   "metadata": {},
   "outputs": [],
   "source": [
    "#Defining the tuned stacked model\n",
    "stack_grid_search = GridSearchCV(estimator=stacking_clf, param_grid=stack_param_grid, cv=3, scoring='accuracy', verbose=2, n_jobs=-1)\n",
    "\n",
    "\n",
    "#Fit the Training data\n",
    "stack_grid_search.fit(X_train_ent, y_train_ent)\n",
    "\n",
    "\n",
    "print(f\"Best Parameters: {stack_grid_search.best_params_}\")\n",
    "print(f\"Best Score: {stack_grid_search.best_score_}\")"
   ]
  },
  {
   "cell_type": "code",
   "execution_count": null,
   "id": "4715a45e",
   "metadata": {},
   "outputs": [],
   "source": [
    "stack_best_model = stack_grid_search.best_estimator_\n",
    "stack_best_predict = stack_best_model.predict(X_test_ent)\n",
    "stack_best_prob = stack_best_model.predict_proba(X_test_ent)[:, 1]\n",
    "\n",
    "\n",
    "print(classification_report(y_test_ent, stack_best_predict))"
   ]
  },
  {
   "cell_type": "code",
   "execution_count": null,
   "id": "cb8e7c54",
   "metadata": {},
   "outputs": [],
   "source": [
    "stackgrid_conf_matrix = confusion_matrix(y_test_ent, stack_best_predict)\n",
    "sns.heatmap(stackgrid_conf_matrix, annot=True, fmt='d', cmap='Blues', xticklabels=['No', 'Yes'], yticklabels=['No', 'Yes'])\n",
    "plt.title('CV Stacked Ensemble Confusion Matrix')\n",
    "plt.ylabel('Actual')\n",
    "plt.xlabel('Predicted')\n",
    "plt.show()"
   ]
  },
  {
   "cell_type": "code",
   "execution_count": null,
   "id": "c9b549a5",
   "metadata": {},
   "outputs": [],
   "source": [
    "\n",
    "ent_roc_auc = roc_auc_score(y_test_ent, stack_best_prob)\n",
    "print(f\"ROC-AUC Score: {ent_roc_auc}\")\n",
    "\n",
    "# Plot ROC Curve\n",
    "ent_fpr, ent_tpr, _ = roc_curve(y_test_ent, stack_best_prob)\n",
    "plt.plot(ent_fpr, ent_tpr, label=f\"ROC Curve (AUC = {ent_roc_auc:.2f})\")\n",
    "plt.xlabel('False Positive Rate')\n",
    "plt.ylabel('True Positive Rate')\n",
    "plt.title('CV Stacked Ensembled ROC Curve')\n",
    "plt.legend()\n",
    "plt.show()"
   ]
  },
  {
   "cell_type": "code",
   "execution_count": null,
   "id": "3a9a2d04",
   "metadata": {},
   "outputs": [],
   "source": []
  }
 ],
 "metadata": {
  "kernelspec": {
   "display_name": "Python 3 (ipykernel)",
   "language": "python",
   "name": "python3"
  },
  "language_info": {
   "codemirror_mode": {
    "name": "ipython",
    "version": 3
   },
   "file_extension": ".py",
   "mimetype": "text/x-python",
   "name": "python",
   "nbconvert_exporter": "python",
   "pygments_lexer": "ipython3",
   "version": "3.11.5"
  }
 },
 "nbformat": 4,
 "nbformat_minor": 5
}
